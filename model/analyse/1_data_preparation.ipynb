{
 "cells": [
  {
   "cell_type": "code",
   "execution_count": 2,
   "metadata": {},
   "outputs": [],
   "source": [
    "import pandas as pd\n",
    "import sqlite3\n",
    "import os"
   ]
  },
  {
   "cell_type": "code",
   "execution_count": 5,
   "metadata": {},
   "outputs": [],
   "source": [
    "# Get the absolute path to the cars.db file located in the parent directory\n",
    "db_path = os.path.abspath(\"../cars.db\")\n",
    "\n",
    "# Connect to the existing cars.db file\n",
    "connection = sqlite3.connect(db_path)\n",
    "\n",
    "df = pd.read_sql_query(\"SELECT * FROM Cars\",connection)\n",
    "\n",
    "connection.close()"
   ]
  },
  {
   "cell_type": "code",
   "execution_count": 4,
   "metadata": {},
   "outputs": [
    {
     "ename": "NameError",
     "evalue": "name 'df' is not defined",
     "output_type": "error",
     "traceback": [
      "\u001b[0;31m---------------------------------------------------------------------------\u001b[0m",
      "\u001b[0;31mNameError\u001b[0m                                 Traceback (most recent call last)",
      "Cell \u001b[0;32mIn[4], line 1\u001b[0m\n\u001b[0;32m----> 1\u001b[0m \u001b[43mdf\u001b[49m\u001b[38;5;241m.\u001b[39minfo()\n",
      "\u001b[0;31mNameError\u001b[0m: name 'df' is not defined"
     ]
    }
   ],
   "source": [
    "df.info()"
   ]
  },
  {
   "cell_type": "code",
   "execution_count": null,
   "metadata": {},
   "outputs": [],
   "source": [
    "# Display the first 5 rows of the Data\n",
    "df.head()"
   ]
  },
  {
   "cell_type": "code",
   "execution_count": null,
   "metadata": {},
   "outputs": [],
   "source": [
    "df.describe()"
   ]
  },
  {
   "cell_type": "code",
   "execution_count": null,
   "metadata": {},
   "outputs": [],
   "source": [
    "# Separate column \"symboling\" into two distinct columns: \"marque\" et \"modèle\n",
    "df[['marque', 'modèle']] = df['CarName'].str.split(' ', n=1, expand=True)\n",
    "\n",
    "df.drop('CarName', axis=1, inplace=True)\n",
    "\n",
    "# df.to_csv('prix_voiture.csv', index=False)"
   ]
  },
  {
   "cell_type": "markdown",
   "metadata": {},
   "source": [
    "#### Nettoyer et modifier les données pour qu'il soit conforme aux normes françaises:"
   ]
  },
  {
   "cell_type": "code",
   "execution_count": null,
   "metadata": {},
   "outputs": [],
   "source": [
    "# Modify the values of the \"fueltype\" column\n",
    "df[\"fueltype\"] = df[\"fueltype\"].replace({\"gas\": \"essence\", \"diesel\": \"diesel\"})\n",
    "\n",
    "# Modify the values of the \"aspiration\" column\n",
    "df[\"aspiration\"] = df[\"aspiration\"].replace({\"std\": \"atmosphérique\", \"turbo\": \"turbo\"})\n",
    "\n",
    "# Modify the values of the \"doornumber\" column\n",
    "df[\"doornumber\"] = df[\"doornumber\"].replace({\"two\": \"deux\", \"four\": \"quatre\"})\n",
    "\n",
    "# Modify the values of the \"carbody\" column\n",
    "df[\"carbody\"] = df[\"carbody\"].replace({\"hatchback\": \"berline compacte\", \"sedan\": \"berline\", \"wagon\": \"break\"})\n",
    "\n",
    "# Modify the values of the \"drivewheel\" column\n",
    "df[\"drivewheel\"] = df[\"drivewheel\"].replace({\"rwd\": \"propulsion\", \"fwd\": \"traction\", \"4wd\": \"quatre roues motrices\"})\n",
    "\n",
    "# Modify the values of the \"enginelocation\" column\n",
    "df[\"enginelocation\"] = df[\"enginelocation\"].replace({\"front\": \"avant\", \"rear\": \"arrière\"})\n",
    "\n",
    "# Rename the columns \"carlength\", \"carwidth\", and \"carheight\"\n",
    "df = df.rename(columns={\"carlength\": \"longueur\", \"carwidth\": \"largeur\", \"carheight\": \"hauteur\"})\n",
    "#######################################################\n",
    "\n",
    "df = df.rename(columns={'car_ID': 'identifiant', 'symboling': 'etat_de_route', 'fueltype': 'carburant', 'aspiration': 'turbo', 'doornumber': 'nombre_portes', 'carbody': 'type_vehicule', 'drivewheel': 'roues_motrices', 'enginelocation': 'emplacement_moteur', 'wheelbase': 'empattement', 'carlength': 'longueur_voiture', 'carwidth': 'largeur_voiture', 'carheight': 'hauteur_voiture', 'curbweight': 'poids_vehicule', 'enginetype': 'type_moteur', 'cylindernumber': 'nombre_cylindres', 'enginesize': 'taille_moteur', 'fuelsystem': 'systeme_carburant', 'boreratio': 'taux_alésage', 'stroke': 'course', 'compressionratio': 'taux_compression', 'horsepower': 'chevaux', 'peakrpm': 'tour_moteur', 'citympg': 'consommation_ville', 'highwaympg': 'consommation_autoroute', 'price': 'prix'})\n",
    "\n",
    "# df.to_csv('prix_voiture.csv', index=False)"
   ]
  },
  {
   "cell_type": "code",
   "execution_count": null,
   "metadata": {},
   "outputs": [],
   "source": [
    "# Delete column car_id\n",
    "df = df.drop('identifiant', axis=1)"
   ]
  },
  {
   "cell_type": "markdown",
   "metadata": {},
   "source": [
    "### Missing values\n",
    "#### There are two missing values in column \"modèle\". Delete these two rows."
   ]
  },
  {
   "cell_type": "code",
   "execution_count": null,
   "metadata": {},
   "outputs": [],
   "source": [
    "df = df.dropna()\n",
    "\n",
    "# display the resulting DataFrame\n",
    "df.info()"
   ]
  },
  {
   "cell_type": "code",
   "execution_count": null,
   "metadata": {},
   "outputs": [],
   "source": [
    "# Select numerical columns\n",
    "numeric_cols = df.select_dtypes(include=['int', 'float']).columns\n",
    "numeric_cols"
   ]
  },
  {
   "cell_type": "code",
   "execution_count": null,
   "metadata": {},
   "outputs": [],
   "source": [
    "# Convert american units into french units\n",
    "df['empattement'] = (df['empattement'] * 0.0254).round(2)\n",
    "df['longueur'] = df['longueur'] * 0.0254\n",
    "df['largeur'] = df['largeur'] * 0.0254\n",
    "df['hauteur'] = df['hauteur'] * 0.0254\n",
    "df['poids_vehicule'] = df['poids_vehicule'] * 0.453592\n",
    "df['taille_moteur'] = df['taille_moteur'] * 0.0163871\n",
    "df['taux_alésage'] = df['taux_alésage'] * 25.4\n",
    "df['course'] = df['course'] * 25.4\n",
    "df['consommation_ville'] = 235.214 / df['consommation_ville']\n",
    "df['consommation_autoroute'] = 235.214 / df['consommation_autoroute']\n",
    "\n",
    "# df.to_csv('prix_voiture.csv', index=False)\n",
    "\n",
    "# Display the first lines of the DataFrame to verify the modifications.\n",
    "print(df.head())\n"
   ]
  },
  {
   "cell_type": "code",
   "execution_count": null,
   "metadata": {},
   "outputs": [],
   "source": [
    "df.describe()"
   ]
  },
  {
   "cell_type": "code",
   "execution_count": null,
   "metadata": {},
   "outputs": [],
   "source": [
    "df.isnull().sum()"
   ]
  },
  {
   "cell_type": "code",
   "execution_count": null,
   "metadata": {},
   "outputs": [],
   "source": [
    "df.duplicated().sum()"
   ]
  },
  {
   "cell_type": "code",
   "execution_count": null,
   "metadata": {},
   "outputs": [],
   "source": [
    "df['marque'].unique()"
   ]
  },
  {
   "cell_type": "code",
   "execution_count": null,
   "metadata": {},
   "outputs": [],
   "source": [
    "df[\"marque\"] = df[\"marque\"].replace({\"porcshce\": \"porsche\", \"toyouta\": \"toyota\", \"vokswagen\": \"volkswagen\", \"maxda\": \"mazda\", \"Nissan\": \"nissan\"})\n"
   ]
  },
  {
   "cell_type": "code",
   "execution_count": null,
   "metadata": {},
   "outputs": [],
   "source": [
    "df['marque'].unique()"
   ]
  },
  {
   "cell_type": "code",
   "execution_count": null,
   "metadata": {},
   "outputs": [],
   "source": [
    "df['modèle'].unique()"
   ]
  },
  {
   "cell_type": "code",
   "execution_count": null,
   "metadata": {},
   "outputs": [],
   "source": [
    "df['tour_moteur'].unique()"
   ]
  },
  {
   "cell_type": "code",
   "execution_count": null,
   "metadata": {},
   "outputs": [],
   "source": [
    "df[\"modèle\"] = df[\"modèle\"].replace({\"100 ls\": \"100ls\"})\n",
    "df"
   ]
  },
  {
   "cell_type": "code",
   "execution_count": null,
   "metadata": {},
   "outputs": [],
   "source": [
    "%matplotlib inline\n",
    "import matplotlib.pyplot as plt\n",
    "import seaborn as sns\n",
    "# Select only numeric columns for correlation calculation\n",
    "numeric_columns = df.select_dtypes(include=['int64', 'float64'])\n",
    "numeric_columns\n",
    "# Calcul de la matrice de corrélation\n",
    "corr_matrix = numeric_columns.corr()\n",
    "\n",
    "# Création de la heatmap\n",
    "plt.figure(figsize=(10, 10))\n",
    "sns.heatmap(corr_matrix, annot=True, cmap='coolwarm', square=True)\n",
    "\n",
    "# Affichage de la heatmap\n",
    "plt.show()\n",
    "# df.corr()"
   ]
  },
  {
   "cell_type": "code",
   "execution_count": null,
   "metadata": {},
   "outputs": [],
   "source": [
    "\n",
    "df.to_csv('../data/prix_voiture.csv', index=False)"
   ]
  }
 ],
 "metadata": {
  "kernelspec": {
   "display_name": "myenv",
   "language": "python",
   "name": "python3"
  },
  "language_info": {
   "codemirror_mode": {
    "name": "ipython",
    "version": 3
   },
   "file_extension": ".py",
   "mimetype": "text/x-python",
   "name": "python",
   "nbconvert_exporter": "python",
   "pygments_lexer": "ipython3",
   "version": "3.10.12"
  }
 },
 "nbformat": 4,
 "nbformat_minor": 2
}
